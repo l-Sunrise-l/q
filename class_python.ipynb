{
  "nbformat": 4,
  "nbformat_minor": 0,
  "metadata": {
    "colab": {
      "name": "class py",
      "provenance": []
    },
    "kernelspec": {
      "name": "python3",
      "display_name": "Python 3"
    },
    "language_info": {
      "name": "python"
    }
  },
  "cells": [
    {
      "cell_type": "markdown",
      "source": [
        "###№1\n",
        "###В этом коде реализован Стэк с возможностью добавления и удаления элементов. И класс “Менеджер задач”. В менеджере задач можно выполнить команду “новая задача”, в которую передаётся сама задача (str) и её приоритет (int). Сам менеджер работает на основе Стэка. При выводе менеджера в консоль все задачи отсортировываются  по приоритету: чем меньше число, тем выше задача."
      ],
      "metadata": {
        "id": "7szQdMWfEyGi"
      }
    },
    {
      "cell_type": "code",
      "source": [
        "class Stack():\n",
        "    def __init__(self):\n",
        "        self.listt = []\n",
        "\n",
        "    def __str__(self):\n",
        "        return self.listt\n",
        "\n",
        "    def check(self):\n",
        "        if len(self.listt) == 0:\n",
        "            return True\n",
        "        else:\n",
        "            return False\n",
        "\n",
        "    def new_task(self, word):\n",
        "        self.listt.append(word)\n",
        "\n",
        "    def remove_task(self, word):\n",
        "        if word in self.listt:\n",
        "            self.listt.remove(word)\n",
        "\n",
        "\n",
        "class TaskManager():\n",
        "\n",
        "    def __init__(self):\n",
        "        self.listt = {}\n",
        "\n",
        "    def new_task(self, word, number):\n",
        "        if not number in self.listt:\n",
        "            self.listt[number] = Stack()\n",
        "        self.listt[number].new_task(word)\n",
        "\n",
        "    def remove_task(self, word, number):\n",
        "        self.listt[number].remove_task(word)\n",
        "        if self.listt[number].check():\n",
        "            self.listt.pop(number)\n",
        "\n",
        "    def __str__(self):\n",
        "        answer_1 = sorted(self.listt.items(), key=lambda x: x)\n",
        "        answer = ''\n",
        "        for counter in answer_1:\n",
        "            answer += '\\n' + str(counter[0])\n",
        "            for counter_1 in counter[1].listt:\n",
        "                answer += ' ' + counter_1 + ';'\n",
        "\n",
        "        return answer\n",
        "\n",
        "\n",
        "manager = TaskManager()\n",
        "\n",
        "manager.new_task(\"сделать уборку\", 4)\n",
        "manager.new_task(\"помыть посуду\", 4)\n",
        "manager.new_task(\"отдохнуть\", 1)\n",
        "manager.new_task(\"поесть\", 2)\n",
        "manager.new_task(\"сделать уроки\", 2)\n",
        "print(manager)\n",
        "\n",
        "manager.remove_task('отдохнуть', 1)\n",
        "manager.remove_task('поесть', 2)\n",
        "manager.remove_task('спать', 4)\n",
        "print(manager)\n"
      ],
      "metadata": {
        "colab": {
          "base_uri": "https://localhost:8080/"
        },
        "id": "v3mp1-epE4K1",
        "outputId": "bacbc46c-d8d6-460f-9fd3-301df707eb1e"
      },
      "execution_count": 1,
      "outputs": [
        {
          "output_type": "stream",
          "name": "stdout",
          "text": [
            "\n",
            "1 отдохнуть;\n",
            "2 поесть; сделать уроки;\n",
            "4 сделать уборку; помыть посуду;\n",
            "\n",
            "2 сделать уроки;\n",
            "4 сделать уборку; помыть посуду;\n"
          ]
        }
      ]
    },
    {
      "cell_type": "markdown",
      "source": [
        "###№2\n",
        "###В этом коде реализована иерархия классов, описывающих служащих в компании. На самом “верху” иерархии - класс Person, который \n",
        "###описывает человека именем, фамилией и возрастом. Далее идут производные от него классы Manager, Agent и Worker. \n",
        "\n",
        "###Классы Работников имеют метод расчета заработной платы, переопределенной в каждом из производных классов. Заработная плата Manager постоянна и равна 13000, заработная плата Agent определяется как оклад 5000 + 5% объема продаж,который хранится в специальном поле класса Agent, и заработная плата Worker определяется как 100 * число отработанных часов, которое также хранится в отдельном поле.\n",
        "\n",
        "###В основной программе создан список из 9 объектов: 3 - Manager, 3 - Agent и \n",
        "###3 - Worker. В конце на экране выведена заработная плата всех 9 служащих.\n"
      ],
      "metadata": {
        "id": "IfIiISLEFBJG"
      }
    },
    {
      "cell_type": "code",
      "source": [
        "class Person():\n",
        "\n",
        "    def __init__(self, name, surname, age):\n",
        "        self.name = name\n",
        "        self.surname = surname\n",
        "        self.age = age\n",
        "        self.salary = 0\n",
        "\n",
        "    def get_info(self):\n",
        "        print(self.name)\n",
        "        print(self.surname)\n",
        "        print(self.age)\n",
        "\n",
        "\n",
        "class Manager(Person):\n",
        "\n",
        "    def __init__(self, name, surname, age):\n",
        "        super().__init__(name, surname, age)\n",
        "        self.salary = 13000\n",
        "\n",
        "    def get_salary(self):\n",
        "        return self.salary\n",
        "\n",
        "\n",
        "class Agent(Person):\n",
        "\n",
        "    def __init__(self, name, surname, age, volume_of_sales):\n",
        "        super().__init__(name, surname, age)\n",
        "        self.salary = 5000 + volume_of_sales * 0.05\n",
        "\n",
        "    def get_salary(self):\n",
        "        return self.salary\n",
        "\n",
        "\n",
        "class Worker(Person):\n",
        "\n",
        "    def __init__(self, name, surname, age, hours):\n",
        "        super().__init__(name, surname, age)\n",
        "        self.salary = 100 * hours\n",
        "\n",
        "    def get_salary(self):\n",
        "        return self.salary\n",
        "\n",
        "\n",
        "manager_1 = Manager('Орлова', 'Елизавета', 30)\n",
        "manager_2 = Manager('Соловьев', 'Иван', 30)\n",
        "manager_3 = Manager('Клюева', 'Ольга', 31)\n",
        "agent_1 = Agent('Иванова', 'Мадина', 29, 100000)\n",
        "agent_2 = Agent('Николаев', 'Богдан', 29, 120000)\n",
        "agent_3 = Agent('Зайцева', 'Алиса', 31, 140000)\n",
        "worker_1 = Worker('Шубина', 'Дарья', 30, 100)\n",
        "worker_2 = Worker('Николаева', 'Алина', 31, 120)\n",
        "worker_3 = Worker('Суркова', 'Тамара', 29, 140)\n",
        "listt = [manager_1, manager_2, manager_3, agent_1, agent_2, agent_3, worker_1, worker_2, worker_3]\n",
        "summ = 0\n",
        "for counter in listt:\n",
        "    summ += counter.salary\n",
        "print('Заработная плата всех:', int(summ))\n"
      ],
      "metadata": {
        "colab": {
          "base_uri": "https://localhost:8080/"
        },
        "id": "EpZsMMuzFI7s",
        "outputId": "0abce1af-0c52-4952-ec4b-e64467d7daa4"
      },
      "execution_count": 2,
      "outputs": [
        {
          "output_type": "stream",
          "name": "stdout",
          "text": [
            "Заработная плата всех: 108000\n"
          ]
        }
      ]
    }
  ]
}