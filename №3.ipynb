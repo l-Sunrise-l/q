{
  "nbformat": 4,
  "nbformat_minor": 0,
  "metadata": {
    "colab": {
      "name": "Coursework_ML.ipynb",
      "provenance": [],
      "collapsed_sections": []
    },
    "kernelspec": {
      "display_name": "Python 3",
      "language": "python",
      "name": "python3"
    },
    "language_info": {
      "codemirror_mode": {
        "name": "ipython",
        "version": 3
      },
      "file_extension": ".py",
      "mimetype": "text/x-python",
      "name": "python",
      "nbconvert_exporter": "python",
      "pygments_lexer": "ipython3",
      "version": "3.6.3"
    }
  },
  "cells": [
    {
      "cell_type": "markdown",
      "metadata": {
        "id": "BBv-oIFLVYRz"
      },
      "source": [
        "\n",
        "**Описание работы:**\n",
        "\n",
        "\n",
        "&nbsp;&nbsp;&nbsp;&nbsp; Мне был предоставлен набор данных от телекоммуникационной компании. В данных содержалась информация о почти шести тысячах пользователей, их демографических характеристиках, услугах, которыми они пользуются, длительности пользования услугами оператора, методе оплаты, размере оплаты. \n",
        "<br>\n",
        "\n",
        "&nbsp;&nbsp;&nbsp;&nbsp; Cтояла задача проанализировать данные и спрогнозировать отток пользователей (выявить людей, которые продлят контракт и которые не продлят).\n",
        "<br><br>\n",
        "\n",
        "\n"
      ]
    },
    {
      "cell_type": "markdown",
      "metadata": {
        "id": "uZY64JwzVYR6"
      },
      "source": [
        "## Codebook\n",
        "<br>\n",
        "\n",
        "[Ссылка для скачивания данных](https://drive.google.com/open?id=1dPCG76ST6NohYKtVMGv6HpFL-jD5p1eJ) \n",
        "<br><br>\n",
        "\n",
        "`telecom_users.csv` содержит следующие значения:<br><br>\n",
        "\n",
        "&nbsp;&nbsp;&nbsp;&nbsp; `customerID` – id клиента<br>\n",
        "&nbsp;&nbsp;&nbsp;&nbsp; `gender` – пол клиента (male/female)<br>\n",
        "&nbsp;&nbsp;&nbsp;&nbsp; `SeniorCitizen` – яляется ли клиент пенсионером (1, 0)<br>\n",
        "&nbsp;&nbsp;&nbsp;&nbsp; `Partner` – состоит ли клиент в браке (Yes, No)<br>\n",
        "&nbsp;&nbsp;&nbsp;&nbsp; `Dependents` – есть ли у клиента иждивенцы (Yes, No)<br>\n",
        "&nbsp;&nbsp;&nbsp;&nbsp; `tenure` – сколько месяцев человек являлся клиентом компании<br>\n",
        "&nbsp;&nbsp;&nbsp;&nbsp; `PhoneService` – подключена ли услуга телефонной связи (Yes, No)<br>\n",
        "&nbsp;&nbsp;&nbsp;&nbsp; `MultipleLines` – подключены ли несколько телефонных линий (Yes, No, No phone service)<br>\n",
        "&nbsp;&nbsp;&nbsp;&nbsp; `InternetService` – интернет-провайдер клиента (DSL, Fiber optic, No)<br>\n",
        "&nbsp;&nbsp;&nbsp;&nbsp; `OnlineSecurity` – подключена ли услуга онлайн-безопасности (Yes, No, No internet service)<br>\n",
        "&nbsp;&nbsp;&nbsp;&nbsp; `OnlineBackup` – подключена ли услуга online backup (Yes, No, No internet service)<br>\n",
        "&nbsp;&nbsp;&nbsp;&nbsp; `DeviceProtection` – есть ли у клиента страховка оборудования (Yes, No, No internet service)<br>\n",
        "&nbsp;&nbsp;&nbsp;&nbsp; `TechSupport` – подключена ли услуга технической поддержки (Yes, No, No internet service)<br>\n",
        "&nbsp;&nbsp;&nbsp;&nbsp; `StreamingTV` – подключена ли услуга стримингового телевидения (Yes, No, No internet service)<br>\n",
        "&nbsp;&nbsp;&nbsp;&nbsp; `StreamingMovies` – подключена ли услуга стримингового кинотеатра (Yes, No, No internet service)<br>\n",
        "&nbsp;&nbsp;&nbsp;&nbsp; `Contract` – тип контракта клиента (Month-to-month, One year, Two year)<br>\n",
        "&nbsp;&nbsp;&nbsp;&nbsp; `PaperlessBilling` – пользуется ли клиент безбумажным биллингом (Yes, No)<br>\n",
        "&nbsp;&nbsp;&nbsp;&nbsp; `PaymentMethod` – метод оплаты (Electronic check, Mailed check, Bank transfer (automatic), Credit card (automatic))<br>\n",
        "&nbsp;&nbsp;&nbsp;&nbsp; `MonthlyCharges` – месячный размер оплаты на настоящий момент<br>\n",
        "&nbsp;&nbsp;&nbsp;&nbsp; `TotalCharges` – общая сумма, которую клиент заплатил за услуги за все время<br>\n",
        "&nbsp;&nbsp;&nbsp;&nbsp; `Churn` – произошел ли отток (Yes or No)<br>"
      ]
    },
    {
      "cell_type": "markdown",
      "metadata": {
        "id": "sIRCLuWGVYR9"
      },
      "source": [
        "---------------------------------------------------------------------------------------------------------------------------------------------\n",
        "# Предоставленные данные\n",
        "---------------------------------------------------------------------------------------------------------------------------------------------\n",
        "\n"
      ]
    },
    {
      "cell_type": "code",
      "metadata": {
        "id": "s0fDRVkgVYSA",
        "colab": {
          "base_uri": "https://localhost:8080/",
          "height": 424
        },
        "outputId": "03c6bfda-0a74-4e1d-8fcf-0557db15b95d"
      },
      "source": [
        "import pandas as pd\n",
        "\n",
        "data = pd.read_csv('telecom_users.csv')\n",
        "data"
      ],
      "execution_count": 2,
      "outputs": [
        {
          "output_type": "execute_result",
          "data": {
            "text/plain": [
              "      Unnamed: 0  customerID  gender  SeniorCitizen Partner Dependents  \\\n",
              "0           1869  7010-BRBUU    Male              0     Yes        Yes   \n",
              "1           4528  9688-YGXVR  Female              0      No         No   \n",
              "2           6344  9286-DOJGF  Female              1     Yes         No   \n",
              "3           6739  6994-KERXL    Male              0      No         No   \n",
              "4            432  2181-UAESM    Male              0      No         No   \n",
              "...          ...         ...     ...            ...     ...        ...   \n",
              "5981        3772  0684-AOSIH    Male              0     Yes         No   \n",
              "5982        5191  5982-PSMKW  Female              0     Yes        Yes   \n",
              "5983        5226  8044-BGWPI    Male              0     Yes        Yes   \n",
              "5984        5390  7450-NWRTR    Male              1      No         No   \n",
              "5985         860  4795-UXVCJ    Male              0      No         No   \n",
              "\n",
              "      tenure PhoneService MultipleLines InternetService  ...  \\\n",
              "0         72          Yes           Yes              No  ...   \n",
              "1         44          Yes            No     Fiber optic  ...   \n",
              "2         38          Yes           Yes     Fiber optic  ...   \n",
              "3          4          Yes            No             DSL  ...   \n",
              "4          2          Yes            No             DSL  ...   \n",
              "...      ...          ...           ...             ...  ...   \n",
              "5981       1          Yes            No     Fiber optic  ...   \n",
              "5982      23          Yes           Yes             DSL  ...   \n",
              "5983      12          Yes            No              No  ...   \n",
              "5984      12          Yes           Yes     Fiber optic  ...   \n",
              "5985      26          Yes            No              No  ...   \n",
              "\n",
              "         DeviceProtection          TechSupport          StreamingTV  \\\n",
              "0     No internet service  No internet service  No internet service   \n",
              "1                     Yes                   No                  Yes   \n",
              "2                      No                   No                   No   \n",
              "3                      No                   No                   No   \n",
              "4                     Yes                   No                   No   \n",
              "...                   ...                  ...                  ...   \n",
              "5981                   No                   No                  Yes   \n",
              "5982                  Yes                  Yes                  Yes   \n",
              "5983  No internet service  No internet service  No internet service   \n",
              "5984                  Yes                   No                  Yes   \n",
              "5985  No internet service  No internet service  No internet service   \n",
              "\n",
              "          StreamingMovies        Contract PaperlessBilling  \\\n",
              "0     No internet service        Two year               No   \n",
              "1                      No  Month-to-month              Yes   \n",
              "2                      No  Month-to-month              Yes   \n",
              "3                     Yes  Month-to-month              Yes   \n",
              "4                      No  Month-to-month               No   \n",
              "...                   ...             ...              ...   \n",
              "5981                  Yes  Month-to-month              Yes   \n",
              "5982                  Yes        Two year              Yes   \n",
              "5983  No internet service  Month-to-month              Yes   \n",
              "5984                  Yes  Month-to-month              Yes   \n",
              "5985  No internet service        One year               No   \n",
              "\n",
              "                  PaymentMethod MonthlyCharges TotalCharges  Churn  \n",
              "0       Credit card (automatic)          24.10      1734.65     No  \n",
              "1       Credit card (automatic)          88.15       3973.2     No  \n",
              "2     Bank transfer (automatic)          74.95      2869.85    Yes  \n",
              "3              Electronic check          55.90        238.5     No  \n",
              "4              Electronic check          53.45        119.5     No  \n",
              "...                         ...            ...          ...    ...  \n",
              "5981           Electronic check          95.00           95    Yes  \n",
              "5982    Credit card (automatic)          91.10       2198.3     No  \n",
              "5983           Electronic check          21.15       306.05     No  \n",
              "5984           Electronic check          99.45      1200.15    Yes  \n",
              "5985    Credit card (automatic)          19.80        457.3     No  \n",
              "\n",
              "[5986 rows x 22 columns]"
            ],
            "text/html": [
              "\n",
              "  <div id=\"df-3694c57e-03a5-49f1-a998-4b7e7effe4a8\">\n",
              "    <div class=\"colab-df-container\">\n",
              "      <div>\n",
              "<style scoped>\n",
              "    .dataframe tbody tr th:only-of-type {\n",
              "        vertical-align: middle;\n",
              "    }\n",
              "\n",
              "    .dataframe tbody tr th {\n",
              "        vertical-align: top;\n",
              "    }\n",
              "\n",
              "    .dataframe thead th {\n",
              "        text-align: right;\n",
              "    }\n",
              "</style>\n",
              "<table border=\"1\" class=\"dataframe\">\n",
              "  <thead>\n",
              "    <tr style=\"text-align: right;\">\n",
              "      <th></th>\n",
              "      <th>Unnamed: 0</th>\n",
              "      <th>customerID</th>\n",
              "      <th>gender</th>\n",
              "      <th>SeniorCitizen</th>\n",
              "      <th>Partner</th>\n",
              "      <th>Dependents</th>\n",
              "      <th>tenure</th>\n",
              "      <th>PhoneService</th>\n",
              "      <th>MultipleLines</th>\n",
              "      <th>InternetService</th>\n",
              "      <th>...</th>\n",
              "      <th>DeviceProtection</th>\n",
              "      <th>TechSupport</th>\n",
              "      <th>StreamingTV</th>\n",
              "      <th>StreamingMovies</th>\n",
              "      <th>Contract</th>\n",
              "      <th>PaperlessBilling</th>\n",
              "      <th>PaymentMethod</th>\n",
              "      <th>MonthlyCharges</th>\n",
              "      <th>TotalCharges</th>\n",
              "      <th>Churn</th>\n",
              "    </tr>\n",
              "  </thead>\n",
              "  <tbody>\n",
              "    <tr>\n",
              "      <th>0</th>\n",
              "      <td>1869</td>\n",
              "      <td>7010-BRBUU</td>\n",
              "      <td>Male</td>\n",
              "      <td>0</td>\n",
              "      <td>Yes</td>\n",
              "      <td>Yes</td>\n",
              "      <td>72</td>\n",
              "      <td>Yes</td>\n",
              "      <td>Yes</td>\n",
              "      <td>No</td>\n",
              "      <td>...</td>\n",
              "      <td>No internet service</td>\n",
              "      <td>No internet service</td>\n",
              "      <td>No internet service</td>\n",
              "      <td>No internet service</td>\n",
              "      <td>Two year</td>\n",
              "      <td>No</td>\n",
              "      <td>Credit card (automatic)</td>\n",
              "      <td>24.10</td>\n",
              "      <td>1734.65</td>\n",
              "      <td>No</td>\n",
              "    </tr>\n",
              "    <tr>\n",
              "      <th>1</th>\n",
              "      <td>4528</td>\n",
              "      <td>9688-YGXVR</td>\n",
              "      <td>Female</td>\n",
              "      <td>0</td>\n",
              "      <td>No</td>\n",
              "      <td>No</td>\n",
              "      <td>44</td>\n",
              "      <td>Yes</td>\n",
              "      <td>No</td>\n",
              "      <td>Fiber optic</td>\n",
              "      <td>...</td>\n",
              "      <td>Yes</td>\n",
              "      <td>No</td>\n",
              "      <td>Yes</td>\n",
              "      <td>No</td>\n",
              "      <td>Month-to-month</td>\n",
              "      <td>Yes</td>\n",
              "      <td>Credit card (automatic)</td>\n",
              "      <td>88.15</td>\n",
              "      <td>3973.2</td>\n",
              "      <td>No</td>\n",
              "    </tr>\n",
              "    <tr>\n",
              "      <th>2</th>\n",
              "      <td>6344</td>\n",
              "      <td>9286-DOJGF</td>\n",
              "      <td>Female</td>\n",
              "      <td>1</td>\n",
              "      <td>Yes</td>\n",
              "      <td>No</td>\n",
              "      <td>38</td>\n",
              "      <td>Yes</td>\n",
              "      <td>Yes</td>\n",
              "      <td>Fiber optic</td>\n",
              "      <td>...</td>\n",
              "      <td>No</td>\n",
              "      <td>No</td>\n",
              "      <td>No</td>\n",
              "      <td>No</td>\n",
              "      <td>Month-to-month</td>\n",
              "      <td>Yes</td>\n",
              "      <td>Bank transfer (automatic)</td>\n",
              "      <td>74.95</td>\n",
              "      <td>2869.85</td>\n",
              "      <td>Yes</td>\n",
              "    </tr>\n",
              "    <tr>\n",
              "      <th>3</th>\n",
              "      <td>6739</td>\n",
              "      <td>6994-KERXL</td>\n",
              "      <td>Male</td>\n",
              "      <td>0</td>\n",
              "      <td>No</td>\n",
              "      <td>No</td>\n",
              "      <td>4</td>\n",
              "      <td>Yes</td>\n",
              "      <td>No</td>\n",
              "      <td>DSL</td>\n",
              "      <td>...</td>\n",
              "      <td>No</td>\n",
              "      <td>No</td>\n",
              "      <td>No</td>\n",
              "      <td>Yes</td>\n",
              "      <td>Month-to-month</td>\n",
              "      <td>Yes</td>\n",
              "      <td>Electronic check</td>\n",
              "      <td>55.90</td>\n",
              "      <td>238.5</td>\n",
              "      <td>No</td>\n",
              "    </tr>\n",
              "    <tr>\n",
              "      <th>4</th>\n",
              "      <td>432</td>\n",
              "      <td>2181-UAESM</td>\n",
              "      <td>Male</td>\n",
              "      <td>0</td>\n",
              "      <td>No</td>\n",
              "      <td>No</td>\n",
              "      <td>2</td>\n",
              "      <td>Yes</td>\n",
              "      <td>No</td>\n",
              "      <td>DSL</td>\n",
              "      <td>...</td>\n",
              "      <td>Yes</td>\n",
              "      <td>No</td>\n",
              "      <td>No</td>\n",
              "      <td>No</td>\n",
              "      <td>Month-to-month</td>\n",
              "      <td>No</td>\n",
              "      <td>Electronic check</td>\n",
              "      <td>53.45</td>\n",
              "      <td>119.5</td>\n",
              "      <td>No</td>\n",
              "    </tr>\n",
              "    <tr>\n",
              "      <th>...</th>\n",
              "      <td>...</td>\n",
              "      <td>...</td>\n",
              "      <td>...</td>\n",
              "      <td>...</td>\n",
              "      <td>...</td>\n",
              "      <td>...</td>\n",
              "      <td>...</td>\n",
              "      <td>...</td>\n",
              "      <td>...</td>\n",
              "      <td>...</td>\n",
              "      <td>...</td>\n",
              "      <td>...</td>\n",
              "      <td>...</td>\n",
              "      <td>...</td>\n",
              "      <td>...</td>\n",
              "      <td>...</td>\n",
              "      <td>...</td>\n",
              "      <td>...</td>\n",
              "      <td>...</td>\n",
              "      <td>...</td>\n",
              "      <td>...</td>\n",
              "    </tr>\n",
              "    <tr>\n",
              "      <th>5981</th>\n",
              "      <td>3772</td>\n",
              "      <td>0684-AOSIH</td>\n",
              "      <td>Male</td>\n",
              "      <td>0</td>\n",
              "      <td>Yes</td>\n",
              "      <td>No</td>\n",
              "      <td>1</td>\n",
              "      <td>Yes</td>\n",
              "      <td>No</td>\n",
              "      <td>Fiber optic</td>\n",
              "      <td>...</td>\n",
              "      <td>No</td>\n",
              "      <td>No</td>\n",
              "      <td>Yes</td>\n",
              "      <td>Yes</td>\n",
              "      <td>Month-to-month</td>\n",
              "      <td>Yes</td>\n",
              "      <td>Electronic check</td>\n",
              "      <td>95.00</td>\n",
              "      <td>95</td>\n",
              "      <td>Yes</td>\n",
              "    </tr>\n",
              "    <tr>\n",
              "      <th>5982</th>\n",
              "      <td>5191</td>\n",
              "      <td>5982-PSMKW</td>\n",
              "      <td>Female</td>\n",
              "      <td>0</td>\n",
              "      <td>Yes</td>\n",
              "      <td>Yes</td>\n",
              "      <td>23</td>\n",
              "      <td>Yes</td>\n",
              "      <td>Yes</td>\n",
              "      <td>DSL</td>\n",
              "      <td>...</td>\n",
              "      <td>Yes</td>\n",
              "      <td>Yes</td>\n",
              "      <td>Yes</td>\n",
              "      <td>Yes</td>\n",
              "      <td>Two year</td>\n",
              "      <td>Yes</td>\n",
              "      <td>Credit card (automatic)</td>\n",
              "      <td>91.10</td>\n",
              "      <td>2198.3</td>\n",
              "      <td>No</td>\n",
              "    </tr>\n",
              "    <tr>\n",
              "      <th>5983</th>\n",
              "      <td>5226</td>\n",
              "      <td>8044-BGWPI</td>\n",
              "      <td>Male</td>\n",
              "      <td>0</td>\n",
              "      <td>Yes</td>\n",
              "      <td>Yes</td>\n",
              "      <td>12</td>\n",
              "      <td>Yes</td>\n",
              "      <td>No</td>\n",
              "      <td>No</td>\n",
              "      <td>...</td>\n",
              "      <td>No internet service</td>\n",
              "      <td>No internet service</td>\n",
              "      <td>No internet service</td>\n",
              "      <td>No internet service</td>\n",
              "      <td>Month-to-month</td>\n",
              "      <td>Yes</td>\n",
              "      <td>Electronic check</td>\n",
              "      <td>21.15</td>\n",
              "      <td>306.05</td>\n",
              "      <td>No</td>\n",
              "    </tr>\n",
              "    <tr>\n",
              "      <th>5984</th>\n",
              "      <td>5390</td>\n",
              "      <td>7450-NWRTR</td>\n",
              "      <td>Male</td>\n",
              "      <td>1</td>\n",
              "      <td>No</td>\n",
              "      <td>No</td>\n",
              "      <td>12</td>\n",
              "      <td>Yes</td>\n",
              "      <td>Yes</td>\n",
              "      <td>Fiber optic</td>\n",
              "      <td>...</td>\n",
              "      <td>Yes</td>\n",
              "      <td>No</td>\n",
              "      <td>Yes</td>\n",
              "      <td>Yes</td>\n",
              "      <td>Month-to-month</td>\n",
              "      <td>Yes</td>\n",
              "      <td>Electronic check</td>\n",
              "      <td>99.45</td>\n",
              "      <td>1200.15</td>\n",
              "      <td>Yes</td>\n",
              "    </tr>\n",
              "    <tr>\n",
              "      <th>5985</th>\n",
              "      <td>860</td>\n",
              "      <td>4795-UXVCJ</td>\n",
              "      <td>Male</td>\n",
              "      <td>0</td>\n",
              "      <td>No</td>\n",
              "      <td>No</td>\n",
              "      <td>26</td>\n",
              "      <td>Yes</td>\n",
              "      <td>No</td>\n",
              "      <td>No</td>\n",
              "      <td>...</td>\n",
              "      <td>No internet service</td>\n",
              "      <td>No internet service</td>\n",
              "      <td>No internet service</td>\n",
              "      <td>No internet service</td>\n",
              "      <td>One year</td>\n",
              "      <td>No</td>\n",
              "      <td>Credit card (automatic)</td>\n",
              "      <td>19.80</td>\n",
              "      <td>457.3</td>\n",
              "      <td>No</td>\n",
              "    </tr>\n",
              "  </tbody>\n",
              "</table>\n",
              "<p>5986 rows × 22 columns</p>\n",
              "</div>\n",
              "      <button class=\"colab-df-convert\" onclick=\"convertToInteractive('df-3694c57e-03a5-49f1-a998-4b7e7effe4a8')\"\n",
              "              title=\"Convert this dataframe to an interactive table.\"\n",
              "              style=\"display:none;\">\n",
              "        \n",
              "  <svg xmlns=\"http://www.w3.org/2000/svg\" height=\"24px\"viewBox=\"0 0 24 24\"\n",
              "       width=\"24px\">\n",
              "    <path d=\"M0 0h24v24H0V0z\" fill=\"none\"/>\n",
              "    <path d=\"M18.56 5.44l.94 2.06.94-2.06 2.06-.94-2.06-.94-.94-2.06-.94 2.06-2.06.94zm-11 1L8.5 8.5l.94-2.06 2.06-.94-2.06-.94L8.5 2.5l-.94 2.06-2.06.94zm10 10l.94 2.06.94-2.06 2.06-.94-2.06-.94-.94-2.06-.94 2.06-2.06.94z\"/><path d=\"M17.41 7.96l-1.37-1.37c-.4-.4-.92-.59-1.43-.59-.52 0-1.04.2-1.43.59L10.3 9.45l-7.72 7.72c-.78.78-.78 2.05 0 2.83L4 21.41c.39.39.9.59 1.41.59.51 0 1.02-.2 1.41-.59l7.78-7.78 2.81-2.81c.8-.78.8-2.07 0-2.86zM5.41 20L4 18.59l7.72-7.72 1.47 1.35L5.41 20z\"/>\n",
              "  </svg>\n",
              "      </button>\n",
              "      \n",
              "  <style>\n",
              "    .colab-df-container {\n",
              "      display:flex;\n",
              "      flex-wrap:wrap;\n",
              "      gap: 12px;\n",
              "    }\n",
              "\n",
              "    .colab-df-convert {\n",
              "      background-color: #E8F0FE;\n",
              "      border: none;\n",
              "      border-radius: 50%;\n",
              "      cursor: pointer;\n",
              "      display: none;\n",
              "      fill: #1967D2;\n",
              "      height: 32px;\n",
              "      padding: 0 0 0 0;\n",
              "      width: 32px;\n",
              "    }\n",
              "\n",
              "    .colab-df-convert:hover {\n",
              "      background-color: #E2EBFA;\n",
              "      box-shadow: 0px 1px 2px rgba(60, 64, 67, 0.3), 0px 1px 3px 1px rgba(60, 64, 67, 0.15);\n",
              "      fill: #174EA6;\n",
              "    }\n",
              "\n",
              "    [theme=dark] .colab-df-convert {\n",
              "      background-color: #3B4455;\n",
              "      fill: #D2E3FC;\n",
              "    }\n",
              "\n",
              "    [theme=dark] .colab-df-convert:hover {\n",
              "      background-color: #434B5C;\n",
              "      box-shadow: 0px 1px 3px 1px rgba(0, 0, 0, 0.15);\n",
              "      filter: drop-shadow(0px 1px 2px rgba(0, 0, 0, 0.3));\n",
              "      fill: #FFFFFF;\n",
              "    }\n",
              "  </style>\n",
              "\n",
              "      <script>\n",
              "        const buttonEl =\n",
              "          document.querySelector('#df-3694c57e-03a5-49f1-a998-4b7e7effe4a8 button.colab-df-convert');\n",
              "        buttonEl.style.display =\n",
              "          google.colab.kernel.accessAllowed ? 'block' : 'none';\n",
              "\n",
              "        async function convertToInteractive(key) {\n",
              "          const element = document.querySelector('#df-3694c57e-03a5-49f1-a998-4b7e7effe4a8');\n",
              "          const dataTable =\n",
              "            await google.colab.kernel.invokeFunction('convertToInteractive',\n",
              "                                                     [key], {});\n",
              "          if (!dataTable) return;\n",
              "\n",
              "          const docLinkHtml = 'Like what you see? Visit the ' +\n",
              "            '<a target=\"_blank\" href=https://colab.research.google.com/notebooks/data_table.ipynb>data table notebook</a>'\n",
              "            + ' to learn more about interactive tables.';\n",
              "          element.innerHTML = '';\n",
              "          dataTable['output_type'] = 'display_data';\n",
              "          await google.colab.output.renderOutput(dataTable, element);\n",
              "          const docLink = document.createElement('div');\n",
              "          docLink.innerHTML = docLinkHtml;\n",
              "          element.appendChild(docLink);\n",
              "        }\n",
              "      </script>\n",
              "    </div>\n",
              "  </div>\n",
              "  "
            ]
          },
          "metadata": {},
          "execution_count": 2
        }
      ]
    },
    {
      "cell_type": "markdown",
      "source": [
        "---------------------------------------------------------------------------------------------------------------------------------------------\n",
        "# Оцифровка данных\n",
        "---------------------------------------------------------------------------------------------------------------------------------------------\n"
      ],
      "metadata": {
        "id": "SPqYSw4Pxl-4"
      }
    },
    {
      "cell_type": "code",
      "source": [
        "data['gender'] = data['gender'].astype('category')\n",
        "data['Partner'] = data['Partner'].astype('category')\n",
        "data['Dependents'] = data['Dependents'].astype('category')\n",
        "data['PhoneService'] = data['PhoneService'].astype('category')\n",
        "data['MultipleLines'] = data['MultipleLines'].astype('category')\n",
        "data['InternetService'] = data['InternetService'].astype('category')\n",
        "data['OnlineSecurity'] = data['OnlineSecurity'].astype('category')\n",
        "data['OnlineBackup'] = data['OnlineBackup'].astype('category')\n",
        "data['DeviceProtection'] = data['DeviceProtection'].astype('category')\n",
        "data['TechSupport'] = data['TechSupport'].astype('category')\n",
        "data['StreamingTV'] = data['StreamingTV'].astype('category')\n",
        "data['StreamingMovies'] = data['StreamingMovies'].astype('category')\n",
        "data['Contract'] = data['Contract'].astype('category')\n",
        "data['PaymentMethod'] = data['PaymentMethod'].astype('category')\n",
        "data['PaperlessBilling'] = data['PaperlessBilling'].astype('category')\n",
        "data['Churn'] = data['Churn'].astype('category')\n",
        "cat_columns = data.select_dtypes(['category']).columns\n",
        "\n",
        "data[cat_columns] = data[cat_columns].apply(lambda x: x.cat.codes)\n",
        "data"
      ],
      "metadata": {
        "colab": {
          "base_uri": "https://localhost:8080/",
          "height": 424
        },
        "id": "WGl9CKqZvsV3",
        "outputId": "c7a9a651-25bb-49a0-b85a-737475badb18"
      },
      "execution_count": 4,
      "outputs": [
        {
          "output_type": "execute_result",
          "data": {
            "text/plain": [
              "      Unnamed: 0  customerID  gender  SeniorCitizen  Partner  Dependents  \\\n",
              "0           1869  7010-BRBUU       1              0        1           1   \n",
              "1           4528  9688-YGXVR       0              0        0           0   \n",
              "2           6344  9286-DOJGF       0              1        1           0   \n",
              "3           6739  6994-KERXL       1              0        0           0   \n",
              "4            432  2181-UAESM       1              0        0           0   \n",
              "...          ...         ...     ...            ...      ...         ...   \n",
              "5981        3772  0684-AOSIH       1              0        1           0   \n",
              "5982        5191  5982-PSMKW       0              0        1           1   \n",
              "5983        5226  8044-BGWPI       1              0        1           1   \n",
              "5984        5390  7450-NWRTR       1              1        0           0   \n",
              "5985         860  4795-UXVCJ       1              0        0           0   \n",
              "\n",
              "      tenure  PhoneService  MultipleLines  InternetService  ...  \\\n",
              "0         72             1              2                2  ...   \n",
              "1         44             1              0                1  ...   \n",
              "2         38             1              2                1  ...   \n",
              "3          4             1              0                0  ...   \n",
              "4          2             1              0                0  ...   \n",
              "...      ...           ...            ...              ...  ...   \n",
              "5981       1             1              0                1  ...   \n",
              "5982      23             1              2                0  ...   \n",
              "5983      12             1              0                2  ...   \n",
              "5984      12             1              2                1  ...   \n",
              "5985      26             1              0                2  ...   \n",
              "\n",
              "      DeviceProtection  TechSupport  StreamingTV  StreamingMovies  Contract  \\\n",
              "0                    1            1            1                1         2   \n",
              "1                    2            0            2                0         0   \n",
              "2                    0            0            0                0         0   \n",
              "3                    0            0            0                2         0   \n",
              "4                    2            0            0                0         0   \n",
              "...                ...          ...          ...              ...       ...   \n",
              "5981                 0            0            2                2         0   \n",
              "5982                 2            2            2                2         2   \n",
              "5983                 1            1            1                1         0   \n",
              "5984                 2            0            2                2         0   \n",
              "5985                 1            1            1                1         1   \n",
              "\n",
              "      PaperlessBilling  PaymentMethod  MonthlyCharges  TotalCharges  Churn  \n",
              "0                    0              1           24.10       1734.65      0  \n",
              "1                    1              1           88.15       3973.20      0  \n",
              "2                    1              0           74.95       2869.85      1  \n",
              "3                    1              2           55.90        238.50      0  \n",
              "4                    0              2           53.45        119.50      0  \n",
              "...                ...            ...             ...           ...    ...  \n",
              "5981                 1              2           95.00         95.00      1  \n",
              "5982                 1              1           91.10       2198.30      0  \n",
              "5983                 1              2           21.15        306.05      0  \n",
              "5984                 1              2           99.45       1200.15      1  \n",
              "5985                 0              1           19.80        457.30      0  \n",
              "\n",
              "[5986 rows x 22 columns]"
            ],
            "text/html": [
              "\n",
              "  <div id=\"df-8698037a-b830-4e51-bc01-2b8725d9f1c4\">\n",
              "    <div class=\"colab-df-container\">\n",
              "      <div>\n",
              "<style scoped>\n",
              "    .dataframe tbody tr th:only-of-type {\n",
              "        vertical-align: middle;\n",
              "    }\n",
              "\n",
              "    .dataframe tbody tr th {\n",
              "        vertical-align: top;\n",
              "    }\n",
              "\n",
              "    .dataframe thead th {\n",
              "        text-align: right;\n",
              "    }\n",
              "</style>\n",
              "<table border=\"1\" class=\"dataframe\">\n",
              "  <thead>\n",
              "    <tr style=\"text-align: right;\">\n",
              "      <th></th>\n",
              "      <th>Unnamed: 0</th>\n",
              "      <th>customerID</th>\n",
              "      <th>gender</th>\n",
              "      <th>SeniorCitizen</th>\n",
              "      <th>Partner</th>\n",
              "      <th>Dependents</th>\n",
              "      <th>tenure</th>\n",
              "      <th>PhoneService</th>\n",
              "      <th>MultipleLines</th>\n",
              "      <th>InternetService</th>\n",
              "      <th>...</th>\n",
              "      <th>DeviceProtection</th>\n",
              "      <th>TechSupport</th>\n",
              "      <th>StreamingTV</th>\n",
              "      <th>StreamingMovies</th>\n",
              "      <th>Contract</th>\n",
              "      <th>PaperlessBilling</th>\n",
              "      <th>PaymentMethod</th>\n",
              "      <th>MonthlyCharges</th>\n",
              "      <th>TotalCharges</th>\n",
              "      <th>Churn</th>\n",
              "    </tr>\n",
              "  </thead>\n",
              "  <tbody>\n",
              "    <tr>\n",
              "      <th>0</th>\n",
              "      <td>1869</td>\n",
              "      <td>7010-BRBUU</td>\n",
              "      <td>1</td>\n",
              "      <td>0</td>\n",
              "      <td>1</td>\n",
              "      <td>1</td>\n",
              "      <td>72</td>\n",
              "      <td>1</td>\n",
              "      <td>2</td>\n",
              "      <td>2</td>\n",
              "      <td>...</td>\n",
              "      <td>1</td>\n",
              "      <td>1</td>\n",
              "      <td>1</td>\n",
              "      <td>1</td>\n",
              "      <td>2</td>\n",
              "      <td>0</td>\n",
              "      <td>1</td>\n",
              "      <td>24.10</td>\n",
              "      <td>1734.65</td>\n",
              "      <td>0</td>\n",
              "    </tr>\n",
              "    <tr>\n",
              "      <th>1</th>\n",
              "      <td>4528</td>\n",
              "      <td>9688-YGXVR</td>\n",
              "      <td>0</td>\n",
              "      <td>0</td>\n",
              "      <td>0</td>\n",
              "      <td>0</td>\n",
              "      <td>44</td>\n",
              "      <td>1</td>\n",
              "      <td>0</td>\n",
              "      <td>1</td>\n",
              "      <td>...</td>\n",
              "      <td>2</td>\n",
              "      <td>0</td>\n",
              "      <td>2</td>\n",
              "      <td>0</td>\n",
              "      <td>0</td>\n",
              "      <td>1</td>\n",
              "      <td>1</td>\n",
              "      <td>88.15</td>\n",
              "      <td>3973.20</td>\n",
              "      <td>0</td>\n",
              "    </tr>\n",
              "    <tr>\n",
              "      <th>2</th>\n",
              "      <td>6344</td>\n",
              "      <td>9286-DOJGF</td>\n",
              "      <td>0</td>\n",
              "      <td>1</td>\n",
              "      <td>1</td>\n",
              "      <td>0</td>\n",
              "      <td>38</td>\n",
              "      <td>1</td>\n",
              "      <td>2</td>\n",
              "      <td>1</td>\n",
              "      <td>...</td>\n",
              "      <td>0</td>\n",
              "      <td>0</td>\n",
              "      <td>0</td>\n",
              "      <td>0</td>\n",
              "      <td>0</td>\n",
              "      <td>1</td>\n",
              "      <td>0</td>\n",
              "      <td>74.95</td>\n",
              "      <td>2869.85</td>\n",
              "      <td>1</td>\n",
              "    </tr>\n",
              "    <tr>\n",
              "      <th>3</th>\n",
              "      <td>6739</td>\n",
              "      <td>6994-KERXL</td>\n",
              "      <td>1</td>\n",
              "      <td>0</td>\n",
              "      <td>0</td>\n",
              "      <td>0</td>\n",
              "      <td>4</td>\n",
              "      <td>1</td>\n",
              "      <td>0</td>\n",
              "      <td>0</td>\n",
              "      <td>...</td>\n",
              "      <td>0</td>\n",
              "      <td>0</td>\n",
              "      <td>0</td>\n",
              "      <td>2</td>\n",
              "      <td>0</td>\n",
              "      <td>1</td>\n",
              "      <td>2</td>\n",
              "      <td>55.90</td>\n",
              "      <td>238.50</td>\n",
              "      <td>0</td>\n",
              "    </tr>\n",
              "    <tr>\n",
              "      <th>4</th>\n",
              "      <td>432</td>\n",
              "      <td>2181-UAESM</td>\n",
              "      <td>1</td>\n",
              "      <td>0</td>\n",
              "      <td>0</td>\n",
              "      <td>0</td>\n",
              "      <td>2</td>\n",
              "      <td>1</td>\n",
              "      <td>0</td>\n",
              "      <td>0</td>\n",
              "      <td>...</td>\n",
              "      <td>2</td>\n",
              "      <td>0</td>\n",
              "      <td>0</td>\n",
              "      <td>0</td>\n",
              "      <td>0</td>\n",
              "      <td>0</td>\n",
              "      <td>2</td>\n",
              "      <td>53.45</td>\n",
              "      <td>119.50</td>\n",
              "      <td>0</td>\n",
              "    </tr>\n",
              "    <tr>\n",
              "      <th>...</th>\n",
              "      <td>...</td>\n",
              "      <td>...</td>\n",
              "      <td>...</td>\n",
              "      <td>...</td>\n",
              "      <td>...</td>\n",
              "      <td>...</td>\n",
              "      <td>...</td>\n",
              "      <td>...</td>\n",
              "      <td>...</td>\n",
              "      <td>...</td>\n",
              "      <td>...</td>\n",
              "      <td>...</td>\n",
              "      <td>...</td>\n",
              "      <td>...</td>\n",
              "      <td>...</td>\n",
              "      <td>...</td>\n",
              "      <td>...</td>\n",
              "      <td>...</td>\n",
              "      <td>...</td>\n",
              "      <td>...</td>\n",
              "      <td>...</td>\n",
              "    </tr>\n",
              "    <tr>\n",
              "      <th>5981</th>\n",
              "      <td>3772</td>\n",
              "      <td>0684-AOSIH</td>\n",
              "      <td>1</td>\n",
              "      <td>0</td>\n",
              "      <td>1</td>\n",
              "      <td>0</td>\n",
              "      <td>1</td>\n",
              "      <td>1</td>\n",
              "      <td>0</td>\n",
              "      <td>1</td>\n",
              "      <td>...</td>\n",
              "      <td>0</td>\n",
              "      <td>0</td>\n",
              "      <td>2</td>\n",
              "      <td>2</td>\n",
              "      <td>0</td>\n",
              "      <td>1</td>\n",
              "      <td>2</td>\n",
              "      <td>95.00</td>\n",
              "      <td>95.00</td>\n",
              "      <td>1</td>\n",
              "    </tr>\n",
              "    <tr>\n",
              "      <th>5982</th>\n",
              "      <td>5191</td>\n",
              "      <td>5982-PSMKW</td>\n",
              "      <td>0</td>\n",
              "      <td>0</td>\n",
              "      <td>1</td>\n",
              "      <td>1</td>\n",
              "      <td>23</td>\n",
              "      <td>1</td>\n",
              "      <td>2</td>\n",
              "      <td>0</td>\n",
              "      <td>...</td>\n",
              "      <td>2</td>\n",
              "      <td>2</td>\n",
              "      <td>2</td>\n",
              "      <td>2</td>\n",
              "      <td>2</td>\n",
              "      <td>1</td>\n",
              "      <td>1</td>\n",
              "      <td>91.10</td>\n",
              "      <td>2198.30</td>\n",
              "      <td>0</td>\n",
              "    </tr>\n",
              "    <tr>\n",
              "      <th>5983</th>\n",
              "      <td>5226</td>\n",
              "      <td>8044-BGWPI</td>\n",
              "      <td>1</td>\n",
              "      <td>0</td>\n",
              "      <td>1</td>\n",
              "      <td>1</td>\n",
              "      <td>12</td>\n",
              "      <td>1</td>\n",
              "      <td>0</td>\n",
              "      <td>2</td>\n",
              "      <td>...</td>\n",
              "      <td>1</td>\n",
              "      <td>1</td>\n",
              "      <td>1</td>\n",
              "      <td>1</td>\n",
              "      <td>0</td>\n",
              "      <td>1</td>\n",
              "      <td>2</td>\n",
              "      <td>21.15</td>\n",
              "      <td>306.05</td>\n",
              "      <td>0</td>\n",
              "    </tr>\n",
              "    <tr>\n",
              "      <th>5984</th>\n",
              "      <td>5390</td>\n",
              "      <td>7450-NWRTR</td>\n",
              "      <td>1</td>\n",
              "      <td>1</td>\n",
              "      <td>0</td>\n",
              "      <td>0</td>\n",
              "      <td>12</td>\n",
              "      <td>1</td>\n",
              "      <td>2</td>\n",
              "      <td>1</td>\n",
              "      <td>...</td>\n",
              "      <td>2</td>\n",
              "      <td>0</td>\n",
              "      <td>2</td>\n",
              "      <td>2</td>\n",
              "      <td>0</td>\n",
              "      <td>1</td>\n",
              "      <td>2</td>\n",
              "      <td>99.45</td>\n",
              "      <td>1200.15</td>\n",
              "      <td>1</td>\n",
              "    </tr>\n",
              "    <tr>\n",
              "      <th>5985</th>\n",
              "      <td>860</td>\n",
              "      <td>4795-UXVCJ</td>\n",
              "      <td>1</td>\n",
              "      <td>0</td>\n",
              "      <td>0</td>\n",
              "      <td>0</td>\n",
              "      <td>26</td>\n",
              "      <td>1</td>\n",
              "      <td>0</td>\n",
              "      <td>2</td>\n",
              "      <td>...</td>\n",
              "      <td>1</td>\n",
              "      <td>1</td>\n",
              "      <td>1</td>\n",
              "      <td>1</td>\n",
              "      <td>1</td>\n",
              "      <td>0</td>\n",
              "      <td>1</td>\n",
              "      <td>19.80</td>\n",
              "      <td>457.30</td>\n",
              "      <td>0</td>\n",
              "    </tr>\n",
              "  </tbody>\n",
              "</table>\n",
              "<p>5986 rows × 22 columns</p>\n",
              "</div>\n",
              "      <button class=\"colab-df-convert\" onclick=\"convertToInteractive('df-8698037a-b830-4e51-bc01-2b8725d9f1c4')\"\n",
              "              title=\"Convert this dataframe to an interactive table.\"\n",
              "              style=\"display:none;\">\n",
              "        \n",
              "  <svg xmlns=\"http://www.w3.org/2000/svg\" height=\"24px\"viewBox=\"0 0 24 24\"\n",
              "       width=\"24px\">\n",
              "    <path d=\"M0 0h24v24H0V0z\" fill=\"none\"/>\n",
              "    <path d=\"M18.56 5.44l.94 2.06.94-2.06 2.06-.94-2.06-.94-.94-2.06-.94 2.06-2.06.94zm-11 1L8.5 8.5l.94-2.06 2.06-.94-2.06-.94L8.5 2.5l-.94 2.06-2.06.94zm10 10l.94 2.06.94-2.06 2.06-.94-2.06-.94-.94-2.06-.94 2.06-2.06.94z\"/><path d=\"M17.41 7.96l-1.37-1.37c-.4-.4-.92-.59-1.43-.59-.52 0-1.04.2-1.43.59L10.3 9.45l-7.72 7.72c-.78.78-.78 2.05 0 2.83L4 21.41c.39.39.9.59 1.41.59.51 0 1.02-.2 1.41-.59l7.78-7.78 2.81-2.81c.8-.78.8-2.07 0-2.86zM5.41 20L4 18.59l7.72-7.72 1.47 1.35L5.41 20z\"/>\n",
              "  </svg>\n",
              "      </button>\n",
              "      \n",
              "  <style>\n",
              "    .colab-df-container {\n",
              "      display:flex;\n",
              "      flex-wrap:wrap;\n",
              "      gap: 12px;\n",
              "    }\n",
              "\n",
              "    .colab-df-convert {\n",
              "      background-color: #E8F0FE;\n",
              "      border: none;\n",
              "      border-radius: 50%;\n",
              "      cursor: pointer;\n",
              "      display: none;\n",
              "      fill: #1967D2;\n",
              "      height: 32px;\n",
              "      padding: 0 0 0 0;\n",
              "      width: 32px;\n",
              "    }\n",
              "\n",
              "    .colab-df-convert:hover {\n",
              "      background-color: #E2EBFA;\n",
              "      box-shadow: 0px 1px 2px rgba(60, 64, 67, 0.3), 0px 1px 3px 1px rgba(60, 64, 67, 0.15);\n",
              "      fill: #174EA6;\n",
              "    }\n",
              "\n",
              "    [theme=dark] .colab-df-convert {\n",
              "      background-color: #3B4455;\n",
              "      fill: #D2E3FC;\n",
              "    }\n",
              "\n",
              "    [theme=dark] .colab-df-convert:hover {\n",
              "      background-color: #434B5C;\n",
              "      box-shadow: 0px 1px 3px 1px rgba(0, 0, 0, 0.15);\n",
              "      filter: drop-shadow(0px 1px 2px rgba(0, 0, 0, 0.3));\n",
              "      fill: #FFFFFF;\n",
              "    }\n",
              "  </style>\n",
              "\n",
              "      <script>\n",
              "        const buttonEl =\n",
              "          document.querySelector('#df-8698037a-b830-4e51-bc01-2b8725d9f1c4 button.colab-df-convert');\n",
              "        buttonEl.style.display =\n",
              "          google.colab.kernel.accessAllowed ? 'block' : 'none';\n",
              "\n",
              "        async function convertToInteractive(key) {\n",
              "          const element = document.querySelector('#df-8698037a-b830-4e51-bc01-2b8725d9f1c4');\n",
              "          const dataTable =\n",
              "            await google.colab.kernel.invokeFunction('convertToInteractive',\n",
              "                                                     [key], {});\n",
              "          if (!dataTable) return;\n",
              "\n",
              "          const docLinkHtml = 'Like what you see? Visit the ' +\n",
              "            '<a target=\"_blank\" href=https://colab.research.google.com/notebooks/data_table.ipynb>data table notebook</a>'\n",
              "            + ' to learn more about interactive tables.';\n",
              "          element.innerHTML = '';\n",
              "          dataTable['output_type'] = 'display_data';\n",
              "          await google.colab.output.renderOutput(dataTable, element);\n",
              "          const docLink = document.createElement('div');\n",
              "          docLink.innerHTML = docLinkHtml;\n",
              "          element.appendChild(docLink);\n",
              "        }\n",
              "      </script>\n",
              "    </div>\n",
              "  </div>\n",
              "  "
            ]
          },
          "metadata": {},
          "execution_count": 4
        }
      ]
    },
    {
      "cell_type": "code",
      "source": [
        "def f(x):\n",
        "  try:\n",
        "    return float(x)\n",
        "  except ValueError:\n",
        "    return\n",
        "data['TotalCharges'] = data['TotalCharges'].map(lambda x: f(x))\n",
        "data=data.fillna(round(data['TotalCharges'].mean(),2))\n",
        "data.dtypes"
      ],
      "metadata": {
        "colab": {
          "base_uri": "https://localhost:8080/"
        },
        "id": "Hw6LymVSacCL",
        "outputId": "fc9008c2-546b-4da2-dcf2-e72f38219110"
      },
      "execution_count": 5,
      "outputs": [
        {
          "output_type": "execute_result",
          "data": {
            "text/plain": [
              "Unnamed: 0            int64\n",
              "customerID           object\n",
              "gender                 int8\n",
              "SeniorCitizen         int64\n",
              "Partner                int8\n",
              "Dependents             int8\n",
              "tenure                int64\n",
              "PhoneService           int8\n",
              "MultipleLines          int8\n",
              "InternetService        int8\n",
              "OnlineSecurity         int8\n",
              "OnlineBackup           int8\n",
              "DeviceProtection       int8\n",
              "TechSupport            int8\n",
              "StreamingTV            int8\n",
              "StreamingMovies        int8\n",
              "Contract               int8\n",
              "PaperlessBilling       int8\n",
              "PaymentMethod          int8\n",
              "MonthlyCharges      float64\n",
              "TotalCharges        float64\n",
              "Churn                  int8\n",
              "dtype: object"
            ]
          },
          "metadata": {},
          "execution_count": 5
        }
      ]
    },
    {
      "cell_type": "markdown",
      "metadata": {
        "id": "TDUhZEKyVYSN"
      },
      "source": [
        "---------------------------------------------------------------------------------------------------------------------------------------------\n",
        "#Исследование зависимостей и формулирование гипотез\n",
        "---------------------------------------------------------------------------------------------------------------------------------------------"
      ]
    },
    {
      "cell_type": "markdown",
      "source": [
        "### Зависимости между Churn и gender нет"
      ],
      "metadata": {
        "id": "mdODy8oCyFMp"
      }
    },
    {
      "cell_type": "code",
      "metadata": {
        "id": "lbekxt4hVYSQ",
        "colab": {
          "base_uri": "https://localhost:8080/"
        },
        "outputId": "30fca071-a6ae-433e-def7-17183061c5ef"
      },
      "source": [
        "from sklearn.metrics import roc_auc_score\n",
        "import numpy as np\n",
        "roc_auc_score(np.array(data.Churn),np.array(data.gender))"
      ],
      "execution_count": null,
      "outputs": [
        {
          "output_type": "execute_result",
          "data": {
            "text/plain": [
              "0.4945930599739615"
            ]
          },
          "metadata": {},
          "execution_count": 8
        }
      ]
    },
    {
      "cell_type": "markdown",
      "source": [
        "### Зависимость между Churn и SeniorCitizen есть"
      ],
      "metadata": {
        "id": "j3zRR-9HyIcm"
      }
    },
    {
      "cell_type": "code",
      "metadata": {
        "colab": {
          "base_uri": "https://localhost:8080/"
        },
        "outputId": "e2e36150-dc7d-474e-da74-7118a8b751ac",
        "id": "SPM7M9ULPFD1"
      },
      "source": [
        "roc_auc_score(np.array(data.Churn),np.array(data.SeniorCitizen))"
      ],
      "execution_count": null,
      "outputs": [
        {
          "output_type": "execute_result",
          "data": {
            "text/plain": [
              "0.5625485857543667"
            ]
          },
          "metadata": {},
          "execution_count": 9
        }
      ]
    },
    {
      "cell_type": "markdown",
      "source": [
        "### Зависимость между Churn и Partner есть"
      ],
      "metadata": {
        "id": "1C1iBPhwyKTI"
      }
    },
    {
      "cell_type": "code",
      "metadata": {
        "colab": {
          "base_uri": "https://localhost:8080/"
        },
        "outputId": "522925d4-1675-4f09-c1b1-4509032bcb3f",
        "id": "PqhaSRfhPLlD"
      },
      "source": [
        "roc_auc_score(np.array(data.Churn),np.array(data.Partner))"
      ],
      "execution_count": null,
      "outputs": [
        {
          "output_type": "execute_result",
          "data": {
            "text/plain": [
              "0.4168688879711878"
            ]
          },
          "metadata": {},
          "execution_count": 10
        }
      ]
    },
    {
      "cell_type": "markdown",
      "source": [
        "### Зависимость между Churn и Dependents есть"
      ],
      "metadata": {
        "id": "QI64BrxzyQIq"
      }
    },
    {
      "cell_type": "code",
      "metadata": {
        "colab": {
          "base_uri": "https://localhost:8080/"
        },
        "outputId": "52087487-a393-4098-9bd3-36de0ba8a4f2",
        "id": "cBane5eSPLqq"
      },
      "source": [
        "roc_auc_score(np.array(data.Churn),np.array(data.Dependents))"
      ],
      "execution_count": null,
      "outputs": [
        {
          "output_type": "execute_result",
          "data": {
            "text/plain": [
              "0.41690190515602377"
            ]
          },
          "metadata": {},
          "execution_count": 30
        }
      ]
    },
    {
      "cell_type": "markdown",
      "source": [
        "### Зависимости между Churn и PhoneService нет"
      ],
      "metadata": {
        "id": "azT0DyJqyMmY"
      }
    },
    {
      "cell_type": "code",
      "metadata": {
        "colab": {
          "base_uri": "https://localhost:8080/"
        },
        "outputId": "263904fe-33c8-44e5-d083-d7a4bdb580d6",
        "id": "HAzFGlFAPLw2"
      },
      "source": [
        "roc_auc_score(np.array(data.Churn),np.array(data.PhoneService))"
      ],
      "execution_count": null,
      "outputs": [
        {
          "output_type": "execute_result",
          "data": {
            "text/plain": [
              "0.5031811090708735"
            ]
          },
          "metadata": {},
          "execution_count": 31
        }
      ]
    },
    {
      "cell_type": "markdown",
      "source": [
        "### Зависимость между Churn и PaperlessBilling есть"
      ],
      "metadata": {
        "id": "2Vverf0iyS22"
      }
    },
    {
      "cell_type": "code",
      "metadata": {
        "colab": {
          "base_uri": "https://localhost:8080/"
        },
        "outputId": "eeae61ad-59e4-4a91-cc53-9d7060ebc71c",
        "id": "PV48GjSZPcEk"
      },
      "source": [
        "roc_auc_score(np.array(data.Churn),np.array(data.PaperlessBilling))"
      ],
      "execution_count": null,
      "outputs": [
        {
          "output_type": "execute_result",
          "data": {
            "text/plain": [
              "0.6053205223791338"
            ]
          },
          "metadata": {},
          "execution_count": 32
        }
      ]
    },
    {
      "cell_type": "markdown",
      "source": [
        "### Зависимости между Churn и MultipleLines нет"
      ],
      "metadata": {
        "id": "Vc9cOc2ryUt6"
      }
    },
    {
      "cell_type": "code",
      "metadata": {
        "colab": {
          "base_uri": "https://localhost:8080/"
        },
        "outputId": "378a251f-d06e-4a77-bdf1-0c2229ccb4bf",
        "id": "BS8mmlgFPcvF"
      },
      "source": [
        "data_1 = data[['MultipleLines','Churn']]\n",
        "print(data_1[data_1['MultipleLines'] ==0]['Churn'].sum()/data_1[data_1['MultipleLines'] ==0]['Churn'].count())\n",
        "print(data_1[data_1['MultipleLines'] ==1]['Churn'].sum()/data_1[data_1['MultipleLines'] ==1]['Churn'].count())\n",
        "print(data_1[data_1['MultipleLines'] ==2]['Churn'].sum()/data_1[data_1['MultipleLines'] ==2]['Churn'].count())"
      ],
      "execution_count": null,
      "outputs": [
        {
          "output_type": "stream",
          "name": "stdout",
          "text": [
            "0.25105337078651685\n",
            "0.25254237288135595\n",
            "0.2837519623233909\n"
          ]
        }
      ]
    },
    {
      "cell_type": "markdown",
      "source": [
        "### Зависимость между Churn и OnlineSecurity есть"
      ],
      "metadata": {
        "id": "RitFQI0RyXIK"
      }
    },
    {
      "cell_type": "code",
      "metadata": {
        "colab": {
          "base_uri": "https://localhost:8080/"
        },
        "outputId": "7b9f1034-cd9a-49f7-a1af-e74bb4e9ce8f",
        "id": "zgDf9qGAcYmH"
      },
      "source": [
        "data_1 = data[['OnlineSecurity','Churn']]\n",
        "print(data_1[data_1['OnlineSecurity'] ==0]['Churn'].sum()/data_1[data_1['OnlineSecurity'] ==0]['Churn'].count())\n",
        "print(data_1[data_1['OnlineSecurity'] ==1]['Churn'].sum()/data_1[data_1['OnlineSecurity'] ==1]['Churn'].count())\n",
        "print(data_1[data_1['OnlineSecurity'] ==2]['Churn'].sum()/data_1[data_1['OnlineSecurity'] ==2]['Churn'].count())"
      ],
      "execution_count": null,
      "outputs": [
        {
          "output_type": "stream",
          "name": "stdout",
          "text": [
            "0.4164989939637827\n",
            "0.0766847405112316\n",
            "0.1436077057793345\n"
          ]
        }
      ]
    },
    {
      "cell_type": "markdown",
      "source": [
        "### Зависимость между Churn и InternetService есть"
      ],
      "metadata": {
        "id": "Bg1VO8tHyYsq"
      }
    },
    {
      "cell_type": "code",
      "metadata": {
        "colab": {
          "base_uri": "https://localhost:8080/"
        },
        "outputId": "7e68516b-3cef-4bbb-9ccc-b9f177a1f153",
        "id": "QIpZcGnfdNcg"
      },
      "source": [
        "data_1 = data[['InternetService','Churn']]\n",
        "print(data_1[data_1['InternetService'] ==0]['Churn'].sum()/data_1[data_1['InternetService'] ==0]['Churn'].count())\n",
        "print(data_1[data_1['InternetService'] ==1]['Churn'].sum()/data_1[data_1['InternetService'] ==1]['Churn'].count())\n",
        "print(data_1[data_1['InternetService'] ==2]['Churn'].sum()/data_1[data_1['InternetService'] ==2]['Churn'].count())"
      ],
      "execution_count": null,
      "outputs": [
        {
          "output_type": "stream",
          "name": "stdout",
          "text": [
            "0.19197292069632496\n",
            "0.4153026265702322\n",
            "0.0766847405112316\n"
          ]
        }
      ]
    },
    {
      "cell_type": "markdown",
      "source": [
        "### Зависимость между Churn и OnlineBackup есть"
      ],
      "metadata": {
        "id": "j_CycdXHyaUm"
      }
    },
    {
      "cell_type": "code",
      "metadata": {
        "colab": {
          "base_uri": "https://localhost:8080/"
        },
        "outputId": "846fca96-70c6-4807-f4de-535944a3a18a",
        "id": "_NCwDk0xdNjp"
      },
      "source": [
        "data_1 = data[['OnlineBackup','Churn']]\n",
        "print(data_1[data_1['OnlineBackup'] ==0]['Churn'].sum()/data_1[data_1['OnlineBackup'] ==0]['Churn'].count())\n",
        "print(data_1[data_1['OnlineBackup'] ==1]['Churn'].sum()/data_1[data_1['OnlineBackup'] ==1]['Churn'].count())\n",
        "print(data_1[data_1['OnlineBackup'] ==2]['Churn'].sum()/data_1[data_1['OnlineBackup'] ==2]['Churn'].count())"
      ],
      "execution_count": null,
      "outputs": [
        {
          "output_type": "stream",
          "name": "stdout",
          "text": [
            "0.3984644913627639\n",
            "0.0766847405112316\n",
            "0.215311004784689\n"
          ]
        }
      ]
    },
    {
      "cell_type": "markdown",
      "source": [
        "### Зависимость между Churn и DeviceProtection есть"
      ],
      "metadata": {
        "id": "lBhM7heryb96"
      }
    },
    {
      "cell_type": "code",
      "metadata": {
        "colab": {
          "base_uri": "https://localhost:8080/"
        },
        "outputId": "86daf814-7a2f-43f4-93db-5aeb04106dad",
        "id": "zVowgRjrdNsl"
      },
      "source": [
        "data_1 = data[['DeviceProtection','Churn']]\n",
        "print(data_1[data_1['DeviceProtection'] ==0]['Churn'].sum()/data_1[data_1['DeviceProtection'] ==0]['Churn'].count())\n",
        "print(data_1[data_1['DeviceProtection'] ==1]['Churn'].sum()/data_1[data_1['DeviceProtection'] ==1]['Churn'].count())\n",
        "print(data_1[data_1['DeviceProtection'] ==2]['Churn'].sum()/data_1[data_1['DeviceProtection'] ==2]['Churn'].count())"
      ],
      "execution_count": null,
      "outputs": [
        {
          "output_type": "stream",
          "name": "stdout",
          "text": [
            "0.390530303030303\n",
            "0.0766847405112316\n",
            "0.22238442822384427\n"
          ]
        }
      ]
    },
    {
      "cell_type": "markdown",
      "source": [
        "### Зависимость между Churn и TechSupport есть"
      ],
      "metadata": {
        "id": "V6t3_c8jydzD"
      }
    },
    {
      "cell_type": "code",
      "metadata": {
        "colab": {
          "base_uri": "https://localhost:8080/"
        },
        "outputId": "b3019a58-1410-47c9-b3dd-a2288fa2c722",
        "id": "lha4kkiid1kh"
      },
      "source": [
        "data_1 = data[['TechSupport','Churn']]\n",
        "print(data_1[data_1['TechSupport'] ==0]['Churn'].sum()/data_1[data_1['TechSupport'] ==0]['Churn'].count())\n",
        "print(data_1[data_1['TechSupport'] ==1]['Churn'].sum()/data_1[data_1['TechSupport'] ==1]['Churn'].count())\n",
        "print(data_1[data_1['TechSupport'] ==2]['Churn'].sum()/data_1[data_1['TechSupport'] ==2]['Churn'].count())"
      ],
      "execution_count": null,
      "outputs": [
        {
          "output_type": "stream",
          "name": "stdout",
          "text": [
            "0.41283783783783784\n",
            "0.0766847405112316\n",
            "0.15331412103746397\n"
          ]
        }
      ]
    },
    {
      "cell_type": "markdown",
      "source": [
        "### Зависимость между Churn и StreamingTV есть"
      ],
      "metadata": {
        "id": "V7LT6hjiyfzw"
      }
    },
    {
      "cell_type": "code",
      "metadata": {
        "colab": {
          "base_uri": "https://localhost:8080/"
        },
        "outputId": "f88f29c8-c4d1-4c4e-e2a5-54c8cfca0e06",
        "id": "bV0es7DXd1ud"
      },
      "source": [
        "data_1 = data[['StreamingTV','Churn']]\n",
        "print(data_1[data_1['StreamingTV'] ==0]['Churn'].sum()/data_1[data_1['StreamingTV'] ==0]['Churn'].count())\n",
        "print(data_1[data_1['StreamingTV'] ==1]['Churn'].sum()/data_1[data_1['StreamingTV'] ==1]['Churn'].count())\n",
        "print(data_1[data_1['StreamingTV'] ==2]['Churn'].sum()/data_1[data_1['StreamingTV'] ==2]['Churn'].count())"
      ],
      "execution_count": null,
      "outputs": [
        {
          "output_type": "stream",
          "name": "stdout",
          "text": [
            "0.3344495604855588\n",
            "0.0766847405112316\n",
            "0.29878577623590635\n"
          ]
        }
      ]
    },
    {
      "cell_type": "markdown",
      "source": [
        "### Зависимость между Churn и StreamingMovies есть"
      ],
      "metadata": {
        "id": "wRyPrki3yhn2"
      }
    },
    {
      "cell_type": "code",
      "metadata": {
        "colab": {
          "base_uri": "https://localhost:8080/"
        },
        "outputId": "cd9ca38e-1517-4234-9f4d-5959a18db7b5",
        "id": "YO6K6vaMd10w"
      },
      "source": [
        "data_1 = data[['StreamingMovies','Churn']]\n",
        "print(data_1[data_1['StreamingMovies'] ==0]['Churn'].sum()/data_1[data_1['StreamingMovies'] ==0]['Churn'].count())\n",
        "print(data_1[data_1['StreamingMovies'] ==1]['Churn'].sum()/data_1[data_1['StreamingMovies'] ==1]['Churn'].count())\n",
        "print(data_1[data_1['StreamingMovies'] ==2]['Churn'].sum()/data_1[data_1['StreamingMovies'] ==2]['Churn'].count())"
      ],
      "execution_count": null,
      "outputs": [
        {
          "output_type": "stream",
          "name": "stdout",
          "text": [
            "0.3361629881154499\n",
            "0.0766847405112316\n",
            "0.2975630611372381\n"
          ]
        }
      ]
    },
    {
      "cell_type": "markdown",
      "source": [
        "### Зависимость между Churn и Contract есть"
      ],
      "metadata": {
        "id": "MmEzYzRiyjYi"
      }
    },
    {
      "cell_type": "code",
      "metadata": {
        "colab": {
          "base_uri": "https://localhost:8080/"
        },
        "outputId": "39508d1c-c41b-442a-fa5f-942b464f7f4e",
        "id": "0lNrlwdsd14L"
      },
      "source": [
        "data_1 = data[['Contract','Churn']]\n",
        "print(data_1[data_1['Contract'] ==0]['Churn'].sum()/data_1[data_1['Contract'] ==0]['Churn'].count())\n",
        "print(data_1[data_1['Contract'] ==1]['Churn'].sum()/data_1[data_1['Contract'] ==1]['Churn'].count())\n",
        "print(data_1[data_1['Contract'] ==2]['Churn'].sum()/data_1[data_1['Contract'] ==2]['Churn'].count())"
      ],
      "execution_count": null,
      "outputs": [
        {
          "output_type": "stream",
          "name": "stdout",
          "text": [
            "0.42765371673294583\n",
            "0.11598746081504702\n",
            "0.028452463566967384\n"
          ]
        }
      ]
    },
    {
      "cell_type": "markdown",
      "source": [
        "### Зависимость между Churn и PaymentMethod есть"
      ],
      "metadata": {
        "id": "VTRi8hcuylBC"
      }
    },
    {
      "cell_type": "code",
      "metadata": {
        "colab": {
          "base_uri": "https://localhost:8080/"
        },
        "outputId": "4b4237df-f26f-4a75-80b5-8dce6da56a5d",
        "id": "UpI3NUMod16z"
      },
      "source": [
        "data_1 = data[['PaymentMethod','Churn']]\n",
        "print(data_1[data_1['PaymentMethod'] ==0]['Churn'].sum()/data_1[data_1['PaymentMethod'] ==0]['Churn'].count())\n",
        "print(data_1[data_1['PaymentMethod'] ==1]['Churn'].sum()/data_1[data_1['PaymentMethod'] ==1]['Churn'].count())\n",
        "print(data_1[data_1['PaymentMethod'] ==2]['Churn'].sum()/data_1[data_1['PaymentMethod'] ==2]['Churn'].count())\n",
        "print(data_1[data_1['PaymentMethod'] ==3]['Churn'].sum()/data_1[data_1['PaymentMethod'] ==3]['Churn'].count())"
      ],
      "execution_count": null,
      "outputs": [
        {
          "output_type": "stream",
          "name": "stdout",
          "text": [
            "0.1712538226299694\n",
            "0.15195702225633154\n",
            "0.44965104685942175\n",
            "0.19211102994886778\n"
          ]
        }
      ]
    },
    {
      "cell_type": "markdown",
      "source": [
        "### Зависимость между Churn и TotalCharges есть"
      ],
      "metadata": {
        "id": "RmVzrytlyng4"
      }
    },
    {
      "cell_type": "code",
      "source": [
        "data_1 = data[['TotalCharges','Churn']]\n",
        "print(data_1.groupby('Churn').mean())\n",
        "print(data_1.TotalCharges.mean())"
      ],
      "metadata": {
        "colab": {
          "base_uri": "https://localhost:8080/"
        },
        "id": "phbUkNNHRG6F",
        "outputId": "c899e874-bcc2-4139-b155-072b06420e80"
      },
      "execution_count": null,
      "outputs": [
        {
          "output_type": "stream",
          "name": "stdout",
          "text": [
            "       TotalCharges\n",
            "Churn              \n",
            "0       2567.680564\n",
            "1       1550.701985\n",
            "2298.0606164383566\n"
          ]
        }
      ]
    },
    {
      "cell_type": "markdown",
      "source": [
        "### Зависимость между Churn и MonthlyCharges есть"
      ],
      "metadata": {
        "id": "PGu-zPo8ypKU"
      }
    },
    {
      "cell_type": "code",
      "source": [
        "data_1 = data[['MonthlyCharges','Churn']]\n",
        "print(data_1.groupby('Churn').mean())\n",
        "print(data_1.MonthlyCharges.mean())"
      ],
      "metadata": {
        "colab": {
          "base_uri": "https://localhost:8080/"
        },
        "id": "JqD5JEhNW3hG",
        "outputId": "63b6a149-8f98-42d0-b6cb-432cea689f24"
      },
      "execution_count": null,
      "outputs": [
        {
          "output_type": "stream",
          "name": "stdout",
          "text": [
            "       MonthlyCharges\n",
            "Churn                \n",
            "0           61.424506\n",
            "1           74.164871\n",
            "64.8022134981624\n"
          ]
        }
      ]
    },
    {
      "cell_type": "markdown",
      "source": [
        "### Зависимость между Churn и tenure есть"
      ],
      "metadata": {
        "id": "MBa01HfIyt9u"
      }
    },
    {
      "cell_type": "code",
      "source": [
        "data_1 = data[['tenure','Churn']]\n",
        "print(data_1.groupby('Churn').mean())\n",
        "print(data_1.tenure.mean())"
      ],
      "metadata": {
        "colab": {
          "base_uri": "https://localhost:8080/"
        },
        "outputId": "dd183027-58f7-495e-8b2c-cd5edd7017c2",
        "id": "0SCTuHqgXeQf"
      },
      "execution_count": null,
      "outputs": [
        {
          "output_type": "stream",
          "name": "stdout",
          "text": [
            "          tenure\n",
            "Churn           \n",
            "0      37.599682\n",
            "1      18.246377\n",
            "32.46876044102907\n"
          ]
        }
      ]
    },
    {
      "cell_type": "markdown",
      "metadata": {
        "id": "YnZrI40dVYSZ"
      },
      "source": [
        "---------------------------------------------------------------------------------------------------------------------------------------------\n",
        "#Построение моделей для прогнозирования оттока\n",
        "---------------------------------------------------------------------------------------------------------------------------------------------"
      ]
    },
    {
      "cell_type": "code",
      "metadata": {
        "id": "wwrrkx8pVYSa"
      },
      "source": [
        "\n",
        "data_2 = data[['SeniorCitizen','Partner','Dependents','PaperlessBilling','OnlineSecurity','InternetService','OnlineBackup','DeviceProtection','TechSupport','StreamingTV','Contract','PaymentMethod','TotalCharges','MonthlyCharges','tenure']]\n",
        "data_3 = data['Churn']\n",
        "from sklearn.model_selection import (GridSearchCV,\n",
        "                                     train_test_split,\n",
        "                                     StratifiedKFold)\n",
        "\n",
        "from sklearn.ensemble import GradientBoostingClassifier, RandomForestClassifier\n",
        "from sklearn.svm import SVC\n",
        "from sklearn.linear_model import LogisticRegression\n",
        "from sklearn.model_selection import StratifiedKFold\n",
        "from sklearn.metrics import roc_auc_score\n",
        "from xgboost import XGBClassifier\n",
        "\n",
        "rfc = RandomForestClassifier(random_state=17)\n",
        "svc = SVC(random_state=17)\n",
        "gbc = GradientBoostingClassifier(random_state=17)\n",
        "lr = LogisticRegression(random_state=17)\n",
        "meta = XGBClassifier(n_estimators=40)\n"
      ],
      "execution_count": null,
      "outputs": []
    },
    {
      "cell_type": "code",
      "source": [
        "x_train, x_test, y_train, y_test = train_test_split(data_2, \n",
        "                                                    data_3,\n",
        "                                                    train_size=0.8,\n",
        "                                                    random_state=17)"
      ],
      "metadata": {
        "id": "_Fp9LOLV3GvL"
      },
      "execution_count": null,
      "outputs": []
    },
    {
      "cell_type": "code",
      "source": [
        "estimators = [('gbc', GradientBoostingClassifier(random_state=17)),\n",
        "              ('rfc', RandomForestClassifier(random_state=17)),\n",
        "              ('svc', SVC(random_state=17)),\n",
        "              ('lr', LogisticRegression(random_state=17))]\n",
        "from sklearn.ensemble import StackingClassifier\n",
        "final_estimator = GradientBoostingClassifier(random_state=17)\n",
        "reg = StackingClassifier(\n",
        "    estimators=estimators,\n",
        "    final_estimator=final_estimator)\n",
        "model_reg = reg.fit(x_train,y_train)\n",
        "reg_predictions = model_reg.predict(x_test)"
      ],
      "metadata": {
        "colab": {
          "base_uri": "https://localhost:8080/"
        },
        "id": "mPtyPIkl9bNc",
        "outputId": "c01fbfef-d9f0-46a6-d24e-e079cfccc7b6"
      },
      "execution_count": null,
      "outputs": [
        {
          "output_type": "stream",
          "name": "stderr",
          "text": [
            "/usr/local/lib/python3.7/dist-packages/sklearn/linear_model/_logistic.py:818: ConvergenceWarning: lbfgs failed to converge (status=1):\n",
            "STOP: TOTAL NO. of ITERATIONS REACHED LIMIT.\n",
            "\n",
            "Increase the number of iterations (max_iter) or scale the data as shown in:\n",
            "    https://scikit-learn.org/stable/modules/preprocessing.html\n",
            "Please also refer to the documentation for alternative solver options:\n",
            "    https://scikit-learn.org/stable/modules/linear_model.html#logistic-regression\n",
            "  extra_warning_msg=_LOGISTIC_SOLVER_CONVERGENCE_MSG,\n",
            "/usr/local/lib/python3.7/dist-packages/sklearn/linear_model/_logistic.py:818: ConvergenceWarning: lbfgs failed to converge (status=1):\n",
            "STOP: TOTAL NO. of ITERATIONS REACHED LIMIT.\n",
            "\n",
            "Increase the number of iterations (max_iter) or scale the data as shown in:\n",
            "    https://scikit-learn.org/stable/modules/preprocessing.html\n",
            "Please also refer to the documentation for alternative solver options:\n",
            "    https://scikit-learn.org/stable/modules/linear_model.html#logistic-regression\n",
            "  extra_warning_msg=_LOGISTIC_SOLVER_CONVERGENCE_MSG,\n",
            "/usr/local/lib/python3.7/dist-packages/sklearn/linear_model/_logistic.py:818: ConvergenceWarning: lbfgs failed to converge (status=1):\n",
            "STOP: TOTAL NO. of ITERATIONS REACHED LIMIT.\n",
            "\n",
            "Increase the number of iterations (max_iter) or scale the data as shown in:\n",
            "    https://scikit-learn.org/stable/modules/preprocessing.html\n",
            "Please also refer to the documentation for alternative solver options:\n",
            "    https://scikit-learn.org/stable/modules/linear_model.html#logistic-regression\n",
            "  extra_warning_msg=_LOGISTIC_SOLVER_CONVERGENCE_MSG,\n",
            "/usr/local/lib/python3.7/dist-packages/sklearn/linear_model/_logistic.py:818: ConvergenceWarning: lbfgs failed to converge (status=1):\n",
            "STOP: TOTAL NO. of ITERATIONS REACHED LIMIT.\n",
            "\n",
            "Increase the number of iterations (max_iter) or scale the data as shown in:\n",
            "    https://scikit-learn.org/stable/modules/preprocessing.html\n",
            "Please also refer to the documentation for alternative solver options:\n",
            "    https://scikit-learn.org/stable/modules/linear_model.html#logistic-regression\n",
            "  extra_warning_msg=_LOGISTIC_SOLVER_CONVERGENCE_MSG,\n",
            "/usr/local/lib/python3.7/dist-packages/sklearn/linear_model/_logistic.py:818: ConvergenceWarning: lbfgs failed to converge (status=1):\n",
            "STOP: TOTAL NO. of ITERATIONS REACHED LIMIT.\n",
            "\n",
            "Increase the number of iterations (max_iter) or scale the data as shown in:\n",
            "    https://scikit-learn.org/stable/modules/preprocessing.html\n",
            "Please also refer to the documentation for alternative solver options:\n",
            "    https://scikit-learn.org/stable/modules/linear_model.html#logistic-regression\n",
            "  extra_warning_msg=_LOGISTIC_SOLVER_CONVERGENCE_MSG,\n",
            "/usr/local/lib/python3.7/dist-packages/sklearn/linear_model/_logistic.py:818: ConvergenceWarning: lbfgs failed to converge (status=1):\n",
            "STOP: TOTAL NO. of ITERATIONS REACHED LIMIT.\n",
            "\n",
            "Increase the number of iterations (max_iter) or scale the data as shown in:\n",
            "    https://scikit-learn.org/stable/modules/preprocessing.html\n",
            "Please also refer to the documentation for alternative solver options:\n",
            "    https://scikit-learn.org/stable/modules/linear_model.html#logistic-regression\n",
            "  extra_warning_msg=_LOGISTIC_SOLVER_CONVERGENCE_MSG,\n"
          ]
        }
      ]
    },
    {
      "cell_type": "markdown",
      "metadata": {
        "id": "uyDpeHkTVYSf"
      },
      "source": [
        "---------------------------------------------------------------------------------------------------------------------------------------------\n",
        "# Сравнение качества моделей \n",
        "---------------------------------------------------------------------------------------------------------------------------------------------"
      ]
    },
    {
      "cell_type": "code",
      "source": [
        "roc_auc_score(y_test,reg_predictions)"
      ],
      "metadata": {
        "colab": {
          "base_uri": "https://localhost:8080/"
        },
        "id": "k4rpDpV_HNe2",
        "outputId": "b89a4123-2a90-48f3-9571-7fbacfec2fe8"
      },
      "execution_count": null,
      "outputs": [
        {
          "output_type": "execute_result",
          "data": {
            "text/plain": [
              "0.6854248683240756"
            ]
          },
          "metadata": {},
          "execution_count": 17
        }
      ]
    },
    {
      "cell_type": "code",
      "source": [
        "model_rfc = rfc.fit(x_train,y_train)\n",
        "rfc_predictions = model_rfc.predict(x_test)\n",
        "print(f'Stacking AUC rfc: {roc_auc_score(y_test,rfc_predictions)}')\n",
        "model_svc = svc.fit(x_train,y_train)\n",
        "svc_predictions = model_svc.predict(x_test)\n",
        "print(f'Stacking AUC svc: {roc_auc_score(y_test,svc_predictions)}')\n",
        "model_gbc = gbc.fit(x_train,y_train)\n",
        "gbc_predictions = model_gbc.predict(x_test)\n",
        "print(f'Stacking AUC gbc: {roc_auc_score(y_test,gbc_predictions)}')\n",
        "model_lr = lr.fit(x_train,y_train)\n",
        "lr_predictions = model_lr.predict(x_test)\n",
        "print(f'Stacking AUC lr: {roc_auc_score(y_test,lr_predictions)}')"
      ],
      "metadata": {
        "colab": {
          "base_uri": "https://localhost:8080/"
        },
        "id": "hu3UDFPiAAkf",
        "outputId": "a7499212-4afb-4d5c-f18d-38eb64439039"
      },
      "execution_count": null,
      "outputs": [
        {
          "output_type": "stream",
          "name": "stdout",
          "text": [
            "Stacking AUC rfc: 0.6870211580290856\n",
            "Stacking AUC svc: 0.5\n",
            "Stacking AUC gbc: 0.6980118283629043\n",
            "Stacking AUC lr: 0.7112854805946538\n"
          ]
        },
        {
          "output_type": "stream",
          "name": "stderr",
          "text": [
            "/usr/local/lib/python3.7/dist-packages/sklearn/linear_model/_logistic.py:818: ConvergenceWarning: lbfgs failed to converge (status=1):\n",
            "STOP: TOTAL NO. of ITERATIONS REACHED LIMIT.\n",
            "\n",
            "Increase the number of iterations (max_iter) or scale the data as shown in:\n",
            "    https://scikit-learn.org/stable/modules/preprocessing.html\n",
            "Please also refer to the documentation for alternative solver options:\n",
            "    https://scikit-learn.org/stable/modules/linear_model.html#logistic-regression\n",
            "  extra_warning_msg=_LOGISTIC_SOLVER_CONVERGENCE_MSG,\n"
          ]
        }
      ]
    },
    {
      "cell_type": "markdown",
      "source": [
        "#Лучший результат у LogisticRegression: 0.7112854805946538"
      ],
      "metadata": {
        "id": "KODic7x3B8fx"
      }
    }
  ]
}