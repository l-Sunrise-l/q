{
  "nbformat": 4,
  "nbformat_minor": 0,
  "metadata": {
    "colab": {
      "name": "try except py",
      "provenance": []
    },
    "kernelspec": {
      "name": "python3",
      "display_name": "Python 3"
    },
    "language_info": {
      "name": "python"
    }
  },
  "cells": [
    {
      "cell_type": "markdown",
      "source": [
        "###№1\n",
        "###В этом коде реализован калькулятор. Он вычисляет все операции которые находятся в списке date_1 и находит сумму их результатов. Но если в примере допущена ошибка он спрашивает пользователя исправлять ли пример, если пользователь отвечает “да”, то он сможет заменить пример на правильный, иначе алгоритм просто исключит ошибочный пример из списка и вычтет оставшуюся сумму ответов и выведет на экран.\n"
      ],
      "metadata": {
        "id": "7szQdMWfEyGi"
      }
    },
    {
      "cell_type": "code",
      "source": [
        "def function_1(word):\n",
        "    if len(word) != 3:\n",
        "        raise ValueError\n",
        "    elif not word[0].isdigit() or not word[2].isdigit():\n",
        "        raise NameError\n",
        "    elif not word[1] in listt:\n",
        "        raise SyntaxError\n",
        "\n",
        "\n",
        "def function_2(word):\n",
        "    symbol = word[1]\n",
        "    if '+' == symbol:\n",
        "        num = int(word[0]) + int(word[2])\n",
        "    elif '-' == symbol:\n",
        "        num = int(word[0]) - int(word[2])\n",
        "    elif '*' == symbol:\n",
        "        num = int(word[0]) * int(word[2])\n",
        "    elif '/' == symbol:\n",
        "        num = int(word[0]) / int(word[2])\n",
        "    return num\n",
        "\n",
        "\n",
        "listt = ['+', '-', '*', '/']\n",
        "data_1 = ['100 + 34','10 +* 3','20 -* 2','23 / 4']\n",
        "print('Примеры:')\n",
        "for variable in data_1:\n",
        "    print(variable)\n",
        "summ = 0\n",
        "for counter in data_1:\n",
        "    try:\n",
        "        word = counter.split()\n",
        "        function_1(word)\n",
        "        summ += function_2(word)\n",
        "    except (ValueError, NameError, SyntaxError):\n",
        "        print(f'Обнаружена ошибка в строке: {counter} ')\n",
        "        variable = input('Хотите исправить?')\n",
        "        if variable == 'да':\n",
        "            counter = input('Введите исправленную строку: ').split()\n",
        "            summ += function_2(counter)\n",
        "print('\\nСумма результатов:', summ)\n",
        "\n"
      ],
      "metadata": {
        "colab": {
          "base_uri": "https://localhost:8080/"
        },
        "id": "v3mp1-epE4K1",
        "outputId": "1de9a7ec-70dc-414d-b4c9-8e4cdb2e0059"
      },
      "execution_count": 6,
      "outputs": [
        {
          "output_type": "stream",
          "name": "stdout",
          "text": [
            "Примеры:\n",
            "100 + 34\n",
            "10 +* 3\n",
            "20 -* 2\n",
            "23 / 4\n",
            "Обнаружена ошибка в строке: 10 +* 3 \n",
            "Хотите исправить?да\n",
            "Введите исправленную строку: 10 * 3\n",
            "Обнаружена ошибка в строке: 20 -* 2 \n",
            "Хотите исправить?нет\n",
            "\n",
            "Сумма результатов: 169.75\n"
          ]
        }
      ]
    },
    {
      "cell_type": "markdown",
      "source": [
        "###№2\n",
        "###В этом коде реализована проверка данных:\n",
        "###- присутствуют все три поля\n",
        "###- поле имени содержит только буквы\n",
        "###- поле емейл содержит @ и .\n",
        "###- поле возраст является числом от 10 до 99\n",
        "\n",
        "###В результате проверки выводятся следующие данные:\n",
        "###- Данные которые не прошли проверку и ошибку из которой их не допустили\n",
        "###- Данные которые прошли проверку\n",
        "\n",
        "###Для проверки данных написана функцию, которая может выдавать следующие исключения:\n",
        "###- НЕ присутствуют все три поля: IndexError\n",
        "###- поле имени содержит НЕ только буквы: NameError\n",
        "###- поле емейл НЕ содержит @ и .(точку): SyntaxError\n",
        "###- поле возраст НЕ является числом от 10 до 99: ValueError\n",
        "\n"
      ],
      "metadata": {
        "id": "IfIiISLEFBJG"
      }
    },
    {
      "cell_type": "code",
      "source": [
        "def function(counter):\n",
        "    word = counter.split()\n",
        "    if len(word) != 3:\n",
        "        raise ValueError('ValueError')\n",
        "    elif any(map(str.isdigit, word[0])):\n",
        "        raise NameError('NameError')\n",
        "    elif not '@' in word[1] or not '.' in word[1]:\n",
        "        raise SyntaxError('SyntaxError')\n",
        "    elif 10 >= int(word[2]) or int(word[2]) >= 99:\n",
        "        raise ValueError('ValueError')\n",
        "    else:\n",
        "        return True\n",
        "\n",
        "\n",
        "data = ['Ольга kmrn@gmail.com 123','Геннадий ttdababmt@gmail.com 69','Ольга ysbxur@gmail.com 20',\n",
        "        'Пенг jyuueiuk@mail.ru 33','Яр4слав oook3@gmail.com 15','Чехова kb@gmail.com 142','Степан jnstgewtth@ya.ru 48',\n",
        "        'Пенг okkybjzekz@gmail.com','Волочкова ucgmail.com 41']\n",
        "registrations_good = []\n",
        "registrations_bad = []\n",
        "for counter in data:\n",
        "    try:\n",
        "        if function(counter):\n",
        "            registrations_good.append(counter)\n",
        "    except (ValueError, NameError, SyntaxError) as err:\n",
        "        registrations_bad.append(str(err) + ': ' + counter)\n",
        "if registrations_good != []:\n",
        "    print('Данные не прошедшие проверку:')\n",
        "    for bad in registrations_bad:\n",
        "        print(bad)\n",
        "else:\n",
        "    print('Данных не прошедших проверку нет')\n",
        "print()\n",
        "if registrations_good != []:\n",
        "    print('Данные прошедшие проверку:')\n",
        "    for good in registrations_good:\n",
        "        print(good)\n",
        "else:\n",
        "    print('Данных прошедших проверку нет')\n"
      ],
      "metadata": {
        "colab": {
          "base_uri": "https://localhost:8080/"
        },
        "id": "EpZsMMuzFI7s",
        "outputId": "2b0840fa-5e0f-41d7-f04e-3bd1dc386fa3"
      },
      "execution_count": 7,
      "outputs": [
        {
          "output_type": "stream",
          "name": "stdout",
          "text": [
            "Данные не прошедшие проверку:\n",
            "ValueError: Ольга kmrn@gmail.com 123\n",
            "NameError: Яр4слав oook3@gmail.com 15\n",
            "ValueError: Чехова kb@gmail.com 142\n",
            "ValueError: Пенг okkybjzekz@gmail.com\n",
            "SyntaxError: Волочкова ucgmail.com 41\n",
            "\n",
            "Данные прошедшие проверку:\n",
            "Геннадий ttdababmt@gmail.com 69\n",
            "Ольга ysbxur@gmail.com 20\n",
            "Пенг jyuueiuk@mail.ru 33\n",
            "Степан jnstgewtth@ya.ru 48\n"
          ]
        }
      ]
    }
  ]
}