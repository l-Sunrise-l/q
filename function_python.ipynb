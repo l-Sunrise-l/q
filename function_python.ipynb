{
  "nbformat": 4,
  "nbformat_minor": 0,
  "metadata": {
    "colab": {
      "name": "function py",
      "provenance": []
    },
    "kernelspec": {
      "name": "python3",
      "display_name": "Python 3"
    },
    "language_info": {
      "name": "python"
    }
  },
  "cells": [
    {
      "cell_type": "markdown",
      "source": [
        "###№1\n",
        "###В этом коде реализована функция, которая делает определённые действия с входными данными:\n",
        "###1. Берёт факториал от числа\n",
        "###2. Результат делит на куб входного числа\n",
        "###3. И получившиеся число возводит в 10 степень\n"
      ],
      "metadata": {
        "id": "7szQdMWfEyGi"
      }
    },
    {
      "cell_type": "code",
      "source": [
        "import math\n",
        "\n",
        "\n",
        "def calculating_math_func(number, listt={}):\n",
        "    if listt.get(number) == None:\n",
        "        listt[number] = math.factorial(number)\n",
        "    result = listt[number]\n",
        "    result /= number ** 3\n",
        "    result = result ** 10\n",
        "    return result\n",
        "\n",
        "\n",
        "number = int(input('Введите число: '))\n",
        "print(calculating_math_func(number))\n",
        "\n"
      ],
      "metadata": {
        "colab": {
          "base_uri": "https://localhost:8080/"
        },
        "id": "v3mp1-epE4K1",
        "outputId": "a355727a-1115-48e4-e13c-2d3a536f1033"
      },
      "execution_count": 3,
      "outputs": [
        {
          "output_type": "stream",
          "name": "stdout",
          "text": [
            "Введите число: 15\n",
            "7.625324666870662e+85\n"
          ]
        }
      ]
    },
    {
      "cell_type": "markdown",
      "source": [
        "###№2\n",
        "###В этом коде реализован поиск заданного пользователем ключа в словаре и выдаёт значение этого ключа на экран: Пользователь вводит искомый ключ. Также он вводит максимальную глубину, -это уровень, до которого будет просматриваться структура. И с помощью рекурсии код ищет ключ.  В качестве примера я буду использовать вот такой словарь:\n",
        "\n",
        "\n",
        "###site = {\n",
        "###   'html': {\n",
        "###      'head': {\n",
        "###         'title': 'Мой сайт'\n",
        "###      },\n",
        "###      'body': {\n",
        "###         'h2': 'Здесь будет мой заголовок',\n",
        "###         'div': 'Тут, наверное, какой-то блок',\n",
        "###         'p': 'А вот здесь новый абзац'\n",
        "###      }\n",
        "###   }\n",
        "###}\n"
      ],
      "metadata": {
        "id": "IfIiISLEFBJG"
      }
    },
    {
      "cell_type": "code",
      "source": [
        "def find_key(sitee, key, deep=99999999999999999999999999):\n",
        "    deep -= 1\n",
        "    if deep == -1:\n",
        "        return None\n",
        "    if key in sitee:\n",
        "        return sitee[key]\n",
        "    for counter in sitee.values():\n",
        "        if isinstance(counter, dict):\n",
        "            result = find_key(counter, key, deep)\n",
        "            if result:\n",
        "                return result\n",
        "\n",
        "\n",
        "site = {\n",
        "\n",
        "    'html': {\n",
        "\n",
        "        'head': {\n",
        "\n",
        "            'title': 'Мой сайт'\n",
        "\n",
        "        },\n",
        "\n",
        "        'body': {\n",
        "\n",
        "            'h2': 'Здесь будет мой заголовок',\n",
        "\n",
        "            'div': 'Тут, наверное, какой-то блок',\n",
        "\n",
        "            'p': 'А вот здесь новый абзац'\n",
        "\n",
        "        }\n",
        "\n",
        "    }\n",
        "\n",
        "}\n",
        "key = input('Введите ключ: ')\n",
        "deep = int(input('Введите глубину: '))\n",
        "value = find_key(site, key, deep)\n",
        "if value:\n",
        "    print(value)\n",
        "else:\n",
        "    print('Такого ключа нет.')\n",
        "\n"
      ],
      "metadata": {
        "colab": {
          "base_uri": "https://localhost:8080/"
        },
        "id": "EpZsMMuzFI7s",
        "outputId": "ed9c3fc9-6823-44b1-e5c8-b8e7ee9dea4f"
      },
      "execution_count": 4,
      "outputs": [
        {
          "output_type": "stream",
          "name": "stdout",
          "text": [
            "Введите ключ: body\n",
            "Введите глубину: 2\n",
            "{'h2': 'Здесь будет мой заголовок', 'div': 'Тут, наверное, какой-то блок', 'p': 'А вот здесь новый абзац'}\n"
          ]
        }
      ]
    }
  ]
}